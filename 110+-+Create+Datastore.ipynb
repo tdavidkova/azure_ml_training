{
 "cells": [
  {
   "cell_type": "code",
   "execution_count": 1,
   "metadata": {},
   "outputs": [],
   "source": [
    "# %%\n",
    "# -----------------------------------------------------\n",
    "# Import the Workspace and Datastore class\n",
    "# -----------------------------------------------------\n",
    "from azureml.core import Workspace, Datastore\n"
   ]
  },
  {
   "cell_type": "code",
   "execution_count": 2,
   "metadata": {},
   "outputs": [
    {
     "name": "stdout",
     "output_type": "stream",
     "text": [
      "c:\\Users\\tdavidkova\\OneDrive - DXC Production\\Documents\\Azure Machine Learning\\ml-sdk\\.venv311\\Scripts\\python.exe\n"
     ]
    }
   ],
   "source": [
    "import sys\n",
    "print(sys.executable)\n"
   ]
  },
  {
   "cell_type": "code",
   "execution_count": 3,
   "metadata": {},
   "outputs": [],
   "source": [
    "# %%\n",
    "# -----------------------------------------------------\n",
    "# Access the workspace from the config.json \n",
    "# -----------------------------------------------------\n",
    "ws = Workspace.from_config(path=\".\")\n"
   ]
  },
  {
   "cell_type": "code",
   "execution_count": 7,
   "metadata": {},
   "outputs": [],
   "source": [
    "# %%\n",
    "import json\n",
    "# Load the configuration file\n",
    "with open('config.json', 'r') as config_file:\n",
    "    config = json.load(config_file)\n",
    "\n",
    "# Extract the account key from the configuration\n",
    "storage_account_key = config.get('storage_account_key')\n",
    "# -----------------------------------------------------\n",
    "# Create a datastore \n",
    "# -----------------------------------------------------\n",
    "az_store = Datastore.register_azure_blob_container(\n",
    "            workspace=ws,\n",
    "            datastore_name=\"cont02\",\n",
    "            account_name=\"tddata01\", # storage account name\n",
    "            container_name=\"cont01\",\n",
    "            account_key=storage_account_key) #storage account key\n",
    "\n",
    "\n",
    "\n",
    "\n",
    "\n",
    "\n",
    "\n",
    "\n",
    "\n",
    "\n",
    "\n",
    "\n",
    "\n",
    "\n"
   ]
  }
 ],
 "metadata": {
  "kernelspec": {
   "display_name": ".venv",
   "language": "python",
   "name": "python3"
  },
  "language_info": {
   "codemirror_mode": {
    "name": "ipython",
    "version": 3
   },
   "file_extension": ".py",
   "mimetype": "text/x-python",
   "name": "python",
   "nbconvert_exporter": "python",
   "pygments_lexer": "ipython3",
   "version": "3.11.9"
  }
 },
 "nbformat": 4,
 "nbformat_minor": 2
}
