{
 "cells": [
  {
   "cell_type": "code",
   "execution_count": 4,
   "metadata": {},
   "outputs": [],
   "source": [
    "# %%\n",
    "# Import the Azure ML classes\n",
    "from azureml.core import Workspace, Experiment, ScriptRunConfig\n",
    "\n",
    "# Access the workspace using config.json\n",
    "ws = Workspace.from_config(\".\")\n"
   ]
  },
  {
   "cell_type": "code",
   "execution_count": 5,
   "metadata": {},
   "outputs": [],
   "source": [
    "# %%\n",
    "# Create/access the experiment from workspace \n",
    "new_experiment = Experiment(workspace=ws,\n",
    "                            name=\"Loan_Script\")\n"
   ]
  },
  {
   "cell_type": "code",
   "execution_count": 8,
   "metadata": {},
   "outputs": [],
   "source": [
    "# %%\n",
    "# Create a script configuration\n",
    "script_config = ScriptRunConfig(source_directory=\".\",\n",
    "                                script=\"180+-+Script+To+Run.py\")\n"
   ]
  },
  {
   "cell_type": "code",
   "execution_count": 22,
   "metadata": {},
   "outputs": [],
   "source": [
    "from azureml.core import Environment\n",
    "from azureml.core.runconfig import RunConfiguration\n",
    "\n",
    "# Create an environment\n",
    "myenv = Environment(name=\"venv311\")\n",
    "\n",
    "# Set up the run configuration\n",
    "run_config = RunConfiguration()\n",
    "run_config.environment = myenv\n",
    "run_config.environment.python.user_managed_dependencies = True\n"
   ]
  },
  {
   "cell_type": "code",
   "execution_count": 23,
   "metadata": {},
   "outputs": [],
   "source": [
    "from azureml.core import ScriptRunConfig\n",
    "\n",
    "# Assume you have a script 'train.py' you want to run\n",
    "script_config = ScriptRunConfig(source_directory='.',\n",
    "                      script='180+-+Script+To+Run.py',\n",
    "                      run_config=run_config)\n"
   ]
  },
  {
   "cell_type": "code",
   "execution_count": 21,
   "metadata": {},
   "outputs": [
    {
     "name": "stdout",
     "output_type": "stream",
     "text": [
      "Name: azureml-core\n",
      "Version: 1.56.0\n",
      "Summary: Azure Machine Learning core packages, modules, and classes\n",
      "Home-page: https://docs.microsoft.com/python/api/overview/azure/ml/?view=azure-ml-py\n",
      "Author: Microsoft Corp\n",
      "Author-email: \n",
      "License: https://aka.ms/azureml-sdk-license\n",
      "Location: C:\\Users\\tdavidkova\\OneDrive - DXC Production\\Documents\\Azure Machine Learning\\ml-sdk\\.venv311\\Lib\\site-packages\n",
      "Requires: adal, argcomplete, azure-common, azure-core, azure-graphrbac, azure-mgmt-authorization, azure-mgmt-containerregistry, azure-mgmt-keyvault, azure-mgmt-network, azure-mgmt-resource, azure-mgmt-storage, backports.tempfile, contextlib2, docker, humanfriendly, jmespath, jsonpickle, knack, msal, msal-extensions, msrest, msrestazure, ndg-httpsclient, packaging, paramiko, pathspec, pkginfo, PyJWT, pyopenssl, python-dateutil, pytz, requests, SecretStorage, urllib3\n",
      "Required-by: \n"
     ]
    }
   ],
   "source": [
    "\n"
   ]
  },
  {
   "cell_type": "code",
   "execution_count": 35,
   "metadata": {},
   "outputs": [
    {
     "data": {
      "text/plain": [
       "{\n",
       "    \"assetId\": null,\n",
       "    \"databricks\": {\n",
       "        \"eggLibraries\": [],\n",
       "        \"jarLibraries\": [],\n",
       "        \"mavenLibraries\": [],\n",
       "        \"pypiLibraries\": [],\n",
       "        \"rcranLibraries\": []\n",
       "    },\n",
       "    \"docker\": {\n",
       "        \"arguments\": [],\n",
       "        \"baseDockerfile\": null,\n",
       "        \"baseImage\": \"mcr.microsoft.com/azureml/openmpi4.1.0-ubuntu20.04:20240418.v1\",\n",
       "        \"baseImageRegistry\": {\n",
       "            \"address\": null,\n",
       "            \"password\": null,\n",
       "            \"registryIdentity\": null,\n",
       "            \"username\": null\n",
       "        },\n",
       "        \"buildContext\": null,\n",
       "        \"enabled\": false,\n",
       "        \"platform\": {\n",
       "            \"architecture\": \"amd64\",\n",
       "            \"os\": \"Linux\"\n",
       "        },\n",
       "        \"sharedVolumes\": true,\n",
       "        \"shmSize\": \"2g\"\n",
       "    },\n",
       "    \"environmentVariables\": {\n",
       "        \"EXAMPLE_ENV_VAR\": \"EXAMPLE_VALUE\"\n",
       "    },\n",
       "    \"inferencingStackVersion\": null,\n",
       "    \"name\": \"venv311\",\n",
       "    \"python\": {\n",
       "        \"baseCondaEnvironment\": null,\n",
       "        \"condaDependencies\": {\n",
       "            \"channels\": [\n",
       "                \"anaconda\",\n",
       "                \"conda-forge\"\n",
       "            ],\n",
       "            \"dependencies\": [\n",
       "                \"python=3.8.13\",\n",
       "                {\n",
       "                    \"pip\": [\n",
       "                        \"\\u00ff\\u00fea\\u0000z\\u0000u\\u0000r\\u0000e\\u0000m\\u0000l\\u0000\",\n",
       "                        \"\\u0000\",\n",
       "                        \"\\u0000p\\u0000a\\u0000n\\u0000d\\u0000a\\u0000s\\u0000\"\n",
       "                    ]\n",
       "                },\n",
       "                \"pip\"\n",
       "            ],\n",
       "            \"name\": \"project_environment\"\n",
       "        },\n",
       "        \"condaDependenciesFile\": null,\n",
       "        \"interpreterPath\": \"python\",\n",
       "        \"userManagedDependencies\": true\n",
       "    },\n",
       "    \"r\": null,\n",
       "    \"spark\": {\n",
       "        \"packages\": [],\n",
       "        \"precachePackages\": true,\n",
       "        \"repositories\": []\n",
       "    },\n",
       "    \"version\": null\n",
       "}"
      ]
     },
     "execution_count": 35,
     "metadata": {},
     "output_type": "execute_result"
    }
   ],
   "source": [
    "from azureml.core import Workspace, Experiment, ScriptRunConfig, Environment\n",
    "\n",
    "\n",
    "# Create a new environment\n",
    "env = Environment.from_pip_requirements(name=\"venv311\", file_path=\"requirements.txt\")\n",
    "\n",
    "# Set user_managed_dependencies to True\n",
    "env.python.user_managed_dependencies = True\n",
    "env\n"
   ]
  },
  {
   "cell_type": "code",
   "execution_count": 36,
   "metadata": {},
   "outputs": [
    {
     "name": "stdout",
     "output_type": "stream",
     "text": [
      "RunId: Loan_Script_1720619745_2e343948\n",
      "Web View: https://ml.azure.com/runs/Loan_Script_1720619745_2e343948?wsid=/subscriptions/9d1e7df0-a4cd-45d3-94d0-9c9208ce45ee/resourcegroups/teodora.davidkova-rg/workspaces/AzureMLWS01&tid=93f33571-550f-43cf-b09f-cd331338d086\n",
      "\n",
      "Streaming azureml-logs/70_driver_log.txt\n",
      "========================================\n",
      "\n",
      "[2024-07-10T13:56:02.967451] Entering context manager injector.\n",
      "[2024-07-10T13:56:03.221723] context_manager_injector.py Command line Options: Namespace(inject=['ProjectPythonPath:context_managers.ProjectPythonPath', 'RunHistory:context_managers.RunHistory', 'TrackUserError:context_managers.TrackUserError'], invocation=['180+-+Script+To+Run.py'])\n",
      "Script type = None\n",
      "Warning: Unable to import azureml.history. Output collection disabled.\n",
      "[2024-07-10T13:56:03.226874] Current directory: C:\\Users\\TDAVID~1\\AppData\\Local\\Temp\\azureml_runs\\Loan_Script_1720619745_2e343948\n",
      "[2024-07-10T13:56:03.226874] Preparing to call script [180+-+Script+To+Run.py] with arguments:[]\n",
      "[2024-07-10T13:56:03.226874] After variable expansion, calling script [180+-+Script+To+Run.py] with arguments:[]\n",
      "\n",
      "\n",
      "\n",
      "[2024-07-10T13:56:03.281663] The experiment failed. Finalizing run...\n",
      "[2024-07-10T13:56:03.281663] Start FinalizingInRunHistory\n",
      "[2024-07-10T13:56:03.283190] Logging experiment finalizing status in history service.\n",
      "Starting the daemon thread to refresh tokens in background for process with pid = 22336\n",
      "[2024-07-10T13:56:03.610413]Hosttool Job Error file path is not set\n",
      "Starting the daemon thread to refresh tokens in background for process with pid = 22336\n",
      "Traceback (most recent call last):\n",
      "  File \"C:\\Users\\TDAVID~1\\AppData\\Local\\Temp\\azureml_runs\\Loan_Script_1720619745_2e343948\\azureml-setup\\context_manager_injector.py\", line 452, in <module>\n",
      "    execute_with_context(cm_objects, options.invocation)\n",
      "  File \"C:\\Users\\TDAVID~1\\AppData\\Local\\Temp\\azureml_runs\\Loan_Script_1720619745_2e343948\\azureml-setup\\context_manager_injector.py\", line 243, in execute_with_context\n",
      "    runpy.run_path(sys.argv[0], globals(), run_name=\"__main__\")\n",
      "  File \"<frozen runpy>\", line 291, in run_path\n",
      "  File \"<frozen runpy>\", line 98, in _run_module_code\n",
      "  File \"<frozen runpy>\", line 88, in _run_code\n",
      "  File \"180+-+Script+To+Run.py\", line 4, in <module>\n",
      "    from azureml.core import Workspace, Datastore, Dataset, Experiment\n",
      "ModuleNotFoundError: No module named 'azureml'\n",
      "\n",
      "[2024-07-10T13:56:03.893824] Finished context manager injector with Exception.\n",
      "\n",
      "Execution Summary\n",
      "=================\n",
      "RunId: Loan_Script_1720619745_2e343948\n",
      "Web View: https://ml.azure.com/runs/Loan_Script_1720619745_2e343948?wsid=/subscriptions/9d1e7df0-a4cd-45d3-94d0-9c9208ce45ee/resourcegroups/teodora.davidkova-rg/workspaces/AzureMLWS01&tid=93f33571-550f-43cf-b09f-cd331338d086\n",
      "\n",
      "Warnings:\n",
      "Local execution of User Script failed. Details can be found in azureml-logs/60_control_log.txt log file.\n",
      "\n"
     ]
    },
    {
     "ename": "ActivityFailedException",
     "evalue": "ActivityFailedException:\n\tMessage: Activity Failed:\n{\n    \"error\": {\n        \"code\": \"UserError\",\n        \"message\": \"No module named 'azureml'\",\n        \"messageParameters\": {},\n        \"details\": []\n    },\n    \"time\": \"0001-01-01T00:00:00.000Z\"\n}\n\tInnerException None\n\tErrorResponse \n{\n    \"error\": {\n        \"message\": \"Activity Failed:\\n{\\n    \\\"error\\\": {\\n        \\\"code\\\": \\\"UserError\\\",\\n        \\\"message\\\": \\\"No module named 'azureml'\\\",\\n        \\\"messageParameters\\\": {},\\n        \\\"details\\\": []\\n    },\\n    \\\"time\\\": \\\"0001-01-01T00:00:00.000Z\\\"\\n}\"\n    }\n}",
     "output_type": "error",
     "traceback": [
      "\u001b[1;31m---------------------------------------------------------------------------\u001b[0m",
      "\u001b[1;31mActivityFailedException\u001b[0m                   Traceback (most recent call last)",
      "Cell \u001b[1;32mIn[36], line 15\u001b[0m\n\u001b[0;32m     13\u001b[0m \u001b[38;5;66;03m# Submit the experiment\u001b[39;00m\n\u001b[0;32m     14\u001b[0m run \u001b[38;5;241m=\u001b[39m experiment\u001b[38;5;241m.\u001b[39msubmit(config\u001b[38;5;241m=\u001b[39msrc)\n\u001b[1;32m---> 15\u001b[0m \u001b[43mrun\u001b[49m\u001b[38;5;241;43m.\u001b[39;49m\u001b[43mwait_for_completion\u001b[49m\u001b[43m(\u001b[49m\u001b[43mshow_output\u001b[49m\u001b[38;5;241;43m=\u001b[39;49m\u001b[38;5;28;43;01mTrue\u001b[39;49;00m\u001b[43m)\u001b[49m\n",
      "File \u001b[1;32mc:\\Users\\tdavidkova\\OneDrive - DXC Production\\Documents\\Azure Machine Learning\\ml-sdk\\.venv311\\Lib\\site-packages\\azureml\\core\\run.py:849\u001b[0m, in \u001b[0;36mRun.wait_for_completion\u001b[1;34m(self, show_output, wait_post_processing, raise_on_error)\u001b[0m\n\u001b[0;32m    847\u001b[0m \u001b[38;5;28;01mif\u001b[39;00m show_output:\n\u001b[0;32m    848\u001b[0m     \u001b[38;5;28;01mtry\u001b[39;00m:\n\u001b[1;32m--> 849\u001b[0m         \u001b[38;5;28;43mself\u001b[39;49m\u001b[38;5;241;43m.\u001b[39;49m\u001b[43m_stream_run_output\u001b[49m\u001b[43m(\u001b[49m\n\u001b[0;32m    850\u001b[0m \u001b[43m            \u001b[49m\u001b[43mfile_handle\u001b[49m\u001b[38;5;241;43m=\u001b[39;49m\u001b[43msys\u001b[49m\u001b[38;5;241;43m.\u001b[39;49m\u001b[43mstdout\u001b[49m\u001b[43m,\u001b[49m\n\u001b[0;32m    851\u001b[0m \u001b[43m            \u001b[49m\u001b[43mwait_post_processing\u001b[49m\u001b[38;5;241;43m=\u001b[39;49m\u001b[43mwait_post_processing\u001b[49m\u001b[43m,\u001b[49m\n\u001b[0;32m    852\u001b[0m \u001b[43m            \u001b[49m\u001b[43mraise_on_error\u001b[49m\u001b[38;5;241;43m=\u001b[39;49m\u001b[43mraise_on_error\u001b[49m\u001b[43m)\u001b[49m\n\u001b[0;32m    853\u001b[0m         \u001b[38;5;28;01mreturn\u001b[39;00m \u001b[38;5;28mself\u001b[39m\u001b[38;5;241m.\u001b[39mget_details()\n\u001b[0;32m    854\u001b[0m     \u001b[38;5;28;01mexcept\u001b[39;00m \u001b[38;5;167;01mKeyboardInterrupt\u001b[39;00m:\n",
      "File \u001b[1;32mc:\\Users\\tdavidkova\\OneDrive - DXC Production\\Documents\\Azure Machine Learning\\ml-sdk\\.venv311\\Lib\\site-packages\\azureml\\core\\run.py:1102\u001b[0m, in \u001b[0;36mRun._stream_run_output\u001b[1;34m(self, file_handle, wait_post_processing, raise_on_error)\u001b[0m\n\u001b[0;32m   1100\u001b[0m         file_handle\u001b[38;5;241m.\u001b[39mwrite(\u001b[38;5;124m\"\u001b[39m\u001b[38;5;130;01m\\n\u001b[39;00m\u001b[38;5;124m\"\u001b[39m)\n\u001b[0;32m   1101\u001b[0m     \u001b[38;5;28;01melse\u001b[39;00m:\n\u001b[1;32m-> 1102\u001b[0m         \u001b[38;5;28;01mraise\u001b[39;00m ActivityFailedException(error_details\u001b[38;5;241m=\u001b[39mjson\u001b[38;5;241m.\u001b[39mdumps(error, indent\u001b[38;5;241m=\u001b[39m\u001b[38;5;241m4\u001b[39m))\n\u001b[0;32m   1104\u001b[0m file_handle\u001b[38;5;241m.\u001b[39mwrite(\u001b[38;5;124m\"\u001b[39m\u001b[38;5;130;01m\\n\u001b[39;00m\u001b[38;5;124m\"\u001b[39m)\n\u001b[0;32m   1105\u001b[0m file_handle\u001b[38;5;241m.\u001b[39mflush()\n",
      "\u001b[1;31mActivityFailedException\u001b[0m: ActivityFailedException:\n\tMessage: Activity Failed:\n{\n    \"error\": {\n        \"code\": \"UserError\",\n        \"message\": \"No module named 'azureml'\",\n        \"messageParameters\": {},\n        \"details\": []\n    },\n    \"time\": \"0001-01-01T00:00:00.000Z\"\n}\n\tInnerException None\n\tErrorResponse \n{\n    \"error\": {\n        \"message\": \"Activity Failed:\\n{\\n    \\\"error\\\": {\\n        \\\"code\\\": \\\"UserError\\\",\\n        \\\"message\\\": \\\"No module named 'azureml'\\\",\\n        \\\"messageParameters\\\": {},\\n        \\\"details\\\": []\\n    },\\n    \\\"time\\\": \\\"0001-01-01T00:00:00.000Z\\\"\\n}\"\n    }\n}"
     ]
    }
   ],
   "source": [
    "\n",
    "# Define your experiment\n",
    "\n",
    "experiment = Experiment(workspace=ws, name=\"Loan_Script\")\n",
    "\n",
    "# Define your script run configuration\n",
    "src = ScriptRunConfig(\n",
    "    source_directory='.',\n",
    "    script='180+-+Script+To+Run.py',\n",
    "    compute_target='local',  # Use 'local' for local machine execution\n",
    "    environment=env\n",
    ")\n",
    "\n",
    "# Submit the experiment\n",
    "run = experiment.submit(config=src)\n",
    "run.wait_for_completion(show_output=True)\n"
   ]
  },
  {
   "cell_type": "code",
   "execution_count": 27,
   "metadata": {},
   "outputs": [],
   "source": [
    "from azureml.core import ScriptRunConfig\n",
    "\n",
    "# Assume you have a script 'train.py' you want to run\n",
    "script_config = ScriptRunConfig(source_directory='.',\n",
    "                      script='180+-+Script+To+Run.py',\n",
    "                      environment=env)"
   ]
  },
  {
   "cell_type": "code",
   "execution_count": 28,
   "metadata": {},
   "outputs": [],
   "source": [
    "# %%\n",
    "\n",
    "import azureml._restclient.snapshots_client\n",
    "azureml._restclient.snapshots_client.SNAPSHOT_MAX_SIZE_BYTES = 1000000000\n",
    "\n",
    "# Submit a new run using the ScriptRunConfig\n",
    "new_run = new_experiment.submit(config=script_config)\n"
   ]
  },
  {
   "cell_type": "code",
   "execution_count": null,
   "metadata": {},
   "outputs": [],
   "source": [
    "# %%\n",
    "# Create a wait for completion of the script\n",
    "new_run.wait_for_completion()\n",
    "\n",
    "\n",
    "\n",
    "\n",
    "\n",
    "\n",
    "\n",
    "\n",
    "\n",
    "\n",
    "\n",
    "\n",
    "\n",
    "\n",
    "\n"
   ]
  }
 ],
 "metadata": {
  "kernelspec": {
   "display_name": ".venv311",
   "language": "python",
   "name": "python3"
  },
  "language_info": {
   "codemirror_mode": {
    "name": "ipython",
    "version": 3
   },
   "file_extension": ".py",
   "mimetype": "text/x-python",
   "name": "python",
   "nbconvert_exporter": "python",
   "pygments_lexer": "ipython3",
   "version": "3.11.9"
  }
 },
 "nbformat": 4,
 "nbformat_minor": 2
}
