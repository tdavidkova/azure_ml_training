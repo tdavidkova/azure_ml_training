{
 "cells": [
  {
   "cell_type": "code",
   "execution_count": 1,
   "metadata": {},
   "outputs": [],
   "source": [
    "# %%\n",
    "# -----------------------------------------------------\n",
    "# Import required classes from Azureml\n",
    "# -----------------------------------------------------\n",
    "from azureml.core import Workspace, Datastore, Dataset\n"
   ]
  },
  {
   "cell_type": "code",
   "execution_count": 2,
   "metadata": {},
   "outputs": [],
   "source": [
    "# %%\n",
    "# -----------------------------------------------------\n",
    "# Access the Workspace, Datastore and Datasets\n",
    "# -----------------------------------------------------\n",
    "ws                = Workspace.from_config(\".\")\n",
    "az_store          = Datastore.get(ws, 'cont01')\n",
    "az_dataset        = Dataset.get_by_name(ws, 'Loan Applications Using SDK')\n",
    "az_default_store  = ws.get_default_datastore()\n"
   ]
  },
  {
   "cell_type": "code",
   "execution_count": 3,
   "metadata": {},
   "outputs": [
    {
     "name": "stderr",
     "output_type": "stream",
     "text": [
      "\"datastore.upload_files\" is deprecated after version 1.0.69. Please use \"FileDatasetFactory.upload_directory\" instead. See Dataset API change notice at https://aka.ms/dataset-deprecation.\n"
     ]
    },
    {
     "name": "stdout",
     "output_type": "stream",
     "text": [
      "Uploading an estimated of 2 files\n",
      "Uploading ./data/test1.csv\n",
      "Uploaded ./data/test1.csv, 1 files out of an estimated total of 2\n",
      "Uploading ./data/test.csv\n",
      "Uploaded ./data/test.csv, 2 files out of an estimated total of 2\n",
      "Uploaded 2 files\n"
     ]
    },
    {
     "data": {
      "text/plain": [
       "$AZUREML_DATAREFERENCE_e24d8f7d710b4994a1b0cf58b5342016"
      ]
     },
     "execution_count": 3,
     "metadata": {},
     "output_type": "execute_result"
    }
   ],
   "source": [
    "# %%\n",
    "# -----------------------------------------------------\n",
    "# Upload local files to storage account using datastore \n",
    "# -----------------------------------------------------\n",
    "files_list = [\"./data/test.csv\", \"./data/test1.csv\"]\n",
    "\n",
    "az_store.upload_files(files=files_list,\n",
    "                      target_path=\"Loan Data/\",\n",
    "                      relative_root=\"./data/\",\n",
    "                      overwrite=True)\n"
   ]
  },
  {
   "cell_type": "code",
   "execution_count": 4,
   "metadata": {},
   "outputs": [
    {
     "name": "stderr",
     "output_type": "stream",
     "text": [
      "\"Datastore.upload\" is deprecated after version 1.0.69. Please use \"Dataset.File.upload_directory\" to upload your files             from a local directory and create FileDataset in single method call. See Dataset API change notice at https://aka.ms/dataset-deprecation.\n"
     ]
    },
    {
     "name": "stdout",
     "output_type": "stream",
     "text": [
      "Uploading an estimated of 2 files\n",
      "Uploading ./data\\test.csv\n",
      "Uploaded ./data\\test.csv, 1 files out of an estimated total of 2\n",
      "Uploading ./data\\test1.csv\n",
      "Uploaded ./data\\test1.csv, 2 files out of an estimated total of 2\n",
      "Uploaded 2 files\n"
     ]
    },
    {
     "data": {
      "text/plain": [
       "$AZUREML_DATAREFERENCE_80d2896cb54949e0b94d5abf5a1c2652"
      ]
     },
     "execution_count": 4,
     "metadata": {},
     "output_type": "execute_result"
    }
   ],
   "source": [
    "# %%\n",
    "# -----------------------------------------------------\n",
    "# Upload folder or directory to the storage account\n",
    "# -----------------------------------------------------\n",
    "az_store.upload(src_dir=\"./data\",\n",
    "                target_path=\"Loan Data/data\",\n",
    "                overwrite=True)\n",
    "\n",
    "\n",
    "\n",
    "\n",
    "\n",
    "\n",
    "\n",
    "\n",
    "\n",
    "\n",
    "\n",
    "\n",
    "\n",
    "\n"
   ]
  }
 ],
 "metadata": {
  "kernelspec": {
   "display_name": ".venv311",
   "language": "python",
   "name": "python3"
  },
  "language_info": {
   "codemirror_mode": {
    "name": "ipython",
    "version": 3
   },
   "file_extension": ".py",
   "mimetype": "text/x-python",
   "name": "python",
   "nbconvert_exporter": "python",
   "pygments_lexer": "ipython3",
   "version": "3.11.9"
  }
 },
 "nbformat": 4,
 "nbformat_minor": 2
}
