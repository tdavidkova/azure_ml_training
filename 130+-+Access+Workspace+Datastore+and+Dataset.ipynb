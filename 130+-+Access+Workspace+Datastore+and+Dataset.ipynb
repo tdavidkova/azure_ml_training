{
 "cells": [
  {
   "cell_type": "code",
   "execution_count": 6,
   "metadata": {},
   "outputs": [],
   "source": [
    "# %%\n",
    "# -----------------------------------------------------\n",
    "# Import required classes from azureml\n",
    "# -----------------------------------------------------\n",
    "from azureml.core import Workspace, Datastore, Dataset\n"
   ]
  },
  {
   "cell_type": "code",
   "execution_count": 7,
   "metadata": {},
   "outputs": [],
   "source": [
    "# %%\n",
    "# -----------------------------------------------------\n",
    "# Access the workspace by name\n",
    "# -----------------------------------------------------\n",
    "ws = Workspace.from_config(\".\")\n"
   ]
  },
  {
   "cell_type": "code",
   "execution_count": 8,
   "metadata": {},
   "outputs": [
    {
     "name": "stdout",
     "output_type": "stream",
     "text": [
      "['AzureMLWS01', 'AzureMLWS02']\n"
     ]
    }
   ],
   "source": [
    "# %%\n",
    "# -----------------------------------------------------\n",
    "# List all the workspaces within a subscription\n",
    "# -----------------------------------------------------\n",
    "\n",
    "ws_list = Workspace.list(subscription_id=\"9d1e7df0-a4cd-45d3-94d0-9c9208ce45ee\")\n",
    "ws_list = list(ws_list)\n",
    "print(ws_list)\n"
   ]
  },
  {
   "cell_type": "code",
   "execution_count": 9,
   "metadata": {},
   "outputs": [
    {
     "name": "stdout",
     "output_type": "stream",
     "text": [
      "{\n",
      "  \"name\": \"workspaceblobstore\",\n",
      "  \"container_name\": \"azureml-blobstore-031ef425-952a-46a0-84a4-db118851b74e\",\n",
      "  \"account_name\": \"azuremlws016229778660\",\n",
      "  \"protocol\": \"https\",\n",
      "  \"endpoint\": \"core.windows.net\"\n",
      "}\n"
     ]
    }
   ],
   "source": [
    "# %%\n",
    "# -----------------------------------------------------\n",
    "# Access the default datastore from workspace\n",
    "# -----------------------------------------------------\n",
    "az_default_store = ws.get_default_datastore()\n",
    "print(az_default_store)\n"
   ]
  },
  {
   "cell_type": "code",
   "execution_count": 10,
   "metadata": {},
   "outputs": [
    {
     "data": {
      "text/plain": [
       "['cont02',\n",
       " 'cont01',\n",
       " 'azureml_globaldatasets',\n",
       " 'workspaceartifactstore',\n",
       " 'workspacefilestore',\n",
       " 'workspaceworkingdirectory',\n",
       " 'workspaceblobstore']"
      ]
     },
     "execution_count": 10,
     "metadata": {},
     "output_type": "execute_result"
    }
   ],
   "source": [
    "# %%\n",
    "# -----------------------------------------------------\n",
    "# List all the datastores\n",
    "# -----------------------------------------------------\n",
    "store_list = list(ws.datastores)\n",
    "store_list\n"
   ]
  },
  {
   "cell_type": "code",
   "execution_count": 11,
   "metadata": {},
   "outputs": [
    {
     "name": "stderr",
     "output_type": "stream",
     "text": [
      "Message: [NOT_SUPPORTED_API_USE_ATTEMPT] The [_get_steps] API has been deprecated and is no longer supported\n",
      "Payload: {\"pid\": 27208, \"rslex_version\": \"2.22.2\", \"api_name\": \"_get_steps\", \"version\": \"5.1.6\"}\n"
     ]
    },
    {
     "data": {
      "text/plain": [
       "{\n",
       "  \"definition\": \"EnginelessDataflow:\\n---\\ntype: mltable\\npaths:\\n  - pattern: \\\"azureml://subscriptions/9d1e7df0-a4cd-45d3-94d0-9c9208ce45ee/resourcegroups/teodora.davidkova-rg/workspaces/AzureMLWS01/datastores/cont02/paths/Loan%20Data/Loan%2BApproval%2BPrediction.csv\\\"\\ntransformations:\\n  - read_delimited:\\n      path_column: Path\\n      include_path_column: false\\n      encoding: utf8\\n      support_multi_line: false\\n      delimiter: \\\",\\\"\\n      empty_as_string: false\\n      partition_size: 20971520\\n      header: all_files_same_headers\\n      infer_column_types: false\\n  - convert_column_types:\\n      - columns: LoanAmount\\n        column_type: int\\n      - columns: Loan_Amount_Term\\n        column_type: int\\n      - columns: Education\\n        column_type: string\\n      - columns: CoapplicantIncome\\n        column_type: int\\n      - columns: Dependents\\n        column_type: string\\n      - columns: ApplicantIncome\\n        column_type: int\\n      - columns: Credit_History\\n        column_type: boolean\\n      - columns: Loan_Status\\n        column_type: boolean\\n      - columns: Self_Employed\\n        column_type: boolean\\n      - columns: Married\\n        column_type: boolean\\n      - columns: Property_Area\\n        column_type: string\\n      - columns: Loan_ID\\n        column_type: string\\n      - columns: Gender\\n        column_type: string\\nmetadata:\\n  infer_column_types: \\\"False\\\"\\n\",\n",
       "  \"registration\": {\n",
       "    \"id\": \"f2327e41-291d-460f-8ba1-dbfe50996acc\",\n",
       "    \"name\": \"Loan Applications Using SDK\",\n",
       "    \"version\": 2,\n",
       "    \"workspace\": \"Workspace.create(name='AzureMLWS01', subscription_id='9d1e7df0-a4cd-45d3-94d0-9c9208ce45ee', resource_group='teodora.davidkova-rg')\"\n",
       "  }\n",
       "}"
      ]
     },
     "execution_count": 11,
     "metadata": {},
     "output_type": "execute_result"
    }
   ],
   "source": [
    "# %%\n",
    "# -----------------------------------------------------\n",
    "# Get the dataset by name from a workspace\n",
    "# -----------------------------------------------------\n",
    "az_dataset = Dataset.get_by_name(ws, \"Loan Applications Using SDK\")\n",
    "az_dataset"
   ]
  },
  {
   "cell_type": "code",
   "execution_count": 12,
   "metadata": {},
   "outputs": [
    {
     "name": "stdout",
     "output_type": "stream",
     "text": [
      "Loan Dataset From Dataframe\n",
      "Loan Applications Using SDK\n",
      "TD-Pipeline-Created-on-06-19-2024-Clean_Missing_Data-Cleaning_transformation-13488707\n",
      "MD-Pipeline-Created-on-06-19-2024-Train_Model-Trained_model-c1f71be9\n",
      "LoanData\n"
     ]
    },
    {
     "data": {
      "text/plain": [
       "['Loan Dataset From Dataframe',\n",
       " 'Loan Applications Using SDK',\n",
       " 'TD-Pipeline-Created-on-06-19-2024-Clean_Missing_Data-Cleaning_transformation-13488707',\n",
       " 'MD-Pipeline-Created-on-06-19-2024-Train_Model-Trained_model-c1f71be9',\n",
       " 'LoanData']"
      ]
     },
     "execution_count": 12,
     "metadata": {},
     "output_type": "execute_result"
    }
   ],
   "source": [
    "# %%\n",
    "# -----------------------------------------------------\n",
    "# List datasets from a workspace\n",
    "# -----------------------------------------------------\n",
    "\n",
    "ds_list = list(ws.datasets.keys())\n",
    "\n",
    "\n",
    "for items in ds_list:\n",
    "    print(items)\n",
    "    \n",
    "\n",
    "ds_list\n",
    "\n",
    "\n",
    "\n",
    "\n",
    "\n",
    "\n",
    "\n",
    "\n",
    "\n",
    "\n",
    "\n",
    "\n",
    "\n"
   ]
  }
 ],
 "metadata": {
  "kernelspec": {
   "display_name": ".venv311",
   "language": "python",
   "name": "python3"
  },
  "language_info": {
   "codemirror_mode": {
    "name": "ipython",
    "version": 3
   },
   "file_extension": ".py",
   "mimetype": "text/x-python",
   "name": "python",
   "nbconvert_exporter": "python",
   "pygments_lexer": "ipython3",
   "version": "3.11.9"
  }
 },
 "nbformat": 4,
 "nbformat_minor": 2
}
