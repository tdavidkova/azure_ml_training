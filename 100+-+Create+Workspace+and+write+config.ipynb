{
 "cells": [
  {
   "cell_type": "code",
   "execution_count": null,
   "metadata": {},
   "outputs": [
    {
     "ename": "",
     "evalue": "",
     "output_type": "error",
     "traceback": [
      "\u001b[1;31mRunning cells with 'conda38 (Python 3.8.19)' requires the ipykernel package.\n",
      "\u001b[1;31mRun the following command to install 'ipykernel' into the Python environment. \n",
      "\u001b[1;31mCommand: 'conda install -p c:\\Users\\tdavidkova\\OneDrive - DXC Production\\Documents\\Azure Machine Learning\\ml-sdk\\conda38 ipykernel --update-deps --force-reinstall'"
     ]
    }
   ],
   "source": [
    "# %%\n",
    "# -----------------------------------------------------\n",
    "# Import Workspace class \n",
    "# -----------------------------------------------------\n",
    "from azureml.core import Workspace\n",
    "from azure.identity import DefaultAzureCredential"
   ]
  },
  {
   "cell_type": "code",
   "execution_count": null,
   "metadata": {},
   "outputs": [
    {
     "name": "stdout",
     "output_type": "stream",
     "text": [
      "c:\\Users\\tdavidkova\\OneDrive - DXC Production\\Documents\\Azure Machine Learning\\ml-sdk\\.venv311\\Scripts\\python.exe\n"
     ]
    }
   ],
   "source": [
    "import sys\n",
    "print(sys.executable)\n"
   ]
  },
  {
   "cell_type": "code",
   "execution_count": 3,
   "metadata": {},
   "outputs": [
    {
     "name": "stdout",
     "output_type": "stream",
     "text": [
      "Deploying StorageAccount with name azuremlwstorage874397889.\n",
      "Deploying AppInsights with name azuremlwinsights76919541.\n",
      "Deployed AppInsights with name azuremlwinsights76919541. Took 2.61 seconds.\n",
      "Deploying KeyVault with name azuremlwkeyvault5ad51a82.\n",
      "Deployed KeyVault with name azuremlwkeyvault5ad51a82. Took 23.25 seconds.\n",
      "Deployed StorageAccount with name azuremlwstorage874397889. Took 23.71 seconds.\n",
      "Deploying Workspace with name AzureMLWS02.\n",
      "Deployed Workspace with name AzureMLWS02. Took 35.2 seconds.\n"
     ]
    }
   ],
   "source": [
    "# %%\n",
    "# -----------------------------------------------------\n",
    "#  Create the workspace\n",
    "# -----------------------------------------------------\n",
    "ws = Workspace.create(name='AzureMLWS02',\n",
    "                      subscription_id='9d1e7df0-a4cd-45d3-94d0-9c9208ce45ee',\n",
    "                      resource_group='teodora.davidkova-rg',\n",
    "                      create_resource_group=False,   # True if it does not exist\n",
    "                      location='switzerlandnorth')\n"
   ]
  },
  {
   "cell_type": "code",
   "execution_count": 7,
   "metadata": {},
   "outputs": [
    {
     "name": "stdout",
     "output_type": "stream",
     "text": [
      "AzureMLWS02 switzerlandnorth teodora.davidkova-rg 9d1e7df0-a4cd-45d3-94d0-9c9208ce45ee\n"
     ]
    }
   ],
   "source": [
    "print(ws.name, ws.location, ws.resource_group, ws.subscription_id)\n",
    "ws.delete()"
   ]
  },
  {
   "cell_type": "code",
   "execution_count": 5,
   "metadata": {},
   "outputs": [
    {
     "ename": "NameError",
     "evalue": "name 'ws' is not defined",
     "output_type": "error",
     "traceback": [
      "\u001b[1;31m---------------------------------------------------------------------------\u001b[0m",
      "\u001b[1;31mNameError\u001b[0m                                 Traceback (most recent call last)",
      "Cell \u001b[1;32mIn[5], line 6\u001b[0m\n\u001b[0;32m      1\u001b[0m \u001b[38;5;66;03m# %%\u001b[39;00m\n\u001b[0;32m      2\u001b[0m \u001b[38;5;66;03m# -----------------------------------------------------\u001b[39;00m\n\u001b[0;32m      3\u001b[0m \u001b[38;5;66;03m# Write the config.json file to local directory\u001b[39;00m\n\u001b[0;32m      4\u001b[0m \u001b[38;5;66;03m# -----------------------------------------------------\u001b[39;00m\n\u001b[1;32m----> 6\u001b[0m \u001b[43mws\u001b[49m\u001b[38;5;241m.\u001b[39mwrite_config(path\u001b[38;5;241m=\u001b[39m\u001b[38;5;124m\"\u001b[39m\u001b[38;5;124m.\u001b[39m\u001b[38;5;124m\"\u001b[39m)\n",
      "\u001b[1;31mNameError\u001b[0m: name 'ws' is not defined"
     ]
    }
   ],
   "source": [
    "# %%\n",
    "# -----------------------------------------------------\n",
    "# Write the config.json file to local directory\n",
    "# -----------------------------------------------------\n",
    "\n",
    "ws.write_config(path=\".\")\n",
    "\n",
    "\n",
    "\n",
    "\n",
    "\n",
    "\n",
    "\n",
    "\n"
   ]
  }
 ],
 "metadata": {
  "kernelspec": {
   "display_name": ".venv",
   "language": "python",
   "name": "python3"
  },
  "language_info": {
   "codemirror_mode": {
    "name": "ipython",
    "version": 3
   },
   "file_extension": ".py",
   "mimetype": "text/x-python",
   "name": "python",
   "nbconvert_exporter": "python",
   "pygments_lexer": "ipython3",
   "version": "3.8.19"
  }
 },
 "nbformat": 4,
 "nbformat_minor": 2
}
