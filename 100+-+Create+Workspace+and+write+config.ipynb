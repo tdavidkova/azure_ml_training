{
 "cells": [
  {
   "cell_type": "code",
   "execution_count": 2,
   "metadata": {},
   "outputs": [],
   "source": [
    "# %%\n",
    "# -----------------------------------------------------\n",
    "# Import Workspace class \n",
    "# -----------------------------------------------------\n",
    "from azureml.core import Workspace\n",
    "from azure.identity import DefaultAzureCredential"
   ]
  },
  {
   "cell_type": "code",
   "execution_count": null,
   "metadata": {},
   "outputs": [
    {
     "name": "stdout",
     "output_type": "stream",
     "text": [
      "c:\\Users\\tdavidkova\\OneDrive - DXC Production\\Documents\\Azure Machine Learning\\ml-sdk\\.venv311\\Scripts\\python.exe\n"
     ]
    }
   ],
   "source": [
    "import sys\n",
    "print(sys.executable)\n"
   ]
  },
  {
   "cell_type": "code",
   "execution_count": 4,
   "metadata": {},
   "outputs": [
    {
     "name": "stdout",
     "output_type": "stream",
     "text": [
      "Deploying StorageAccount with name azuremlwstorage7ebd97ad5.\n",
      "Deploying KeyVault with name azuremlwkeyvault42e60495.\n",
      "Deploying AppInsights with name azuremlwinsights86b4425b.\n",
      "Deployed AppInsights with name azuremlwinsights86b4425b. Took 2.85 seconds.\n",
      "Deploying Workspace with name AzureMLWS04.\n",
      "Deployed StorageAccount with name azuremlwstorage7ebd97ad5. Took 22.57 seconds.\n",
      "Deployed KeyVault with name azuremlwkeyvault42e60495. Took 23.48 seconds.\n",
      "Deployed Workspace with name AzureMLWS04. Took 33.51 seconds.\n"
     ]
    }
   ],
   "source": [
    "# %%\n",
    "# -----------------------------------------------------\n",
    "#  Create the workspace\n",
    "# -----------------------------------------------------\n",
    "ws = Workspace.create(name='AzureMLWS04',\n",
    "                      subscription_id='9d1e7df0-a4cd-45d3-94d0-9c9208ce45ee',\n",
    "                      resource_group='teodora.davidkova-rg',\n",
    "                      create_resource_group=False,   # True if it does not exist\n",
    "                      location='switzerlandnorth')\n"
   ]
  },
  {
   "cell_type": "code",
   "execution_count": 7,
   "metadata": {},
   "outputs": [
    {
     "name": "stdout",
     "output_type": "stream",
     "text": [
      "AzureMLWS02 switzerlandnorth teodora.davidkova-rg 9d1e7df0-a4cd-45d3-94d0-9c9208ce45ee\n"
     ]
    }
   ],
   "source": [
    "print(ws.name, ws.location, ws.resource_group, ws.subscription_id)\n"
   ]
  },
  {
   "cell_type": "code",
   "execution_count": 6,
   "metadata": {},
   "outputs": [],
   "source": [
    "# %%\n",
    "# -----------------------------------------------------\n",
    "# Write the config.json file to local directory\n",
    "# -----------------------------------------------------\n",
    "\n",
    "ws.write_config(path=\".\", file_name=\"config4.json\")\n",
    "\n",
    "\n",
    "\n",
    "\n",
    "\n",
    "\n",
    "\n",
    "\n"
   ]
  },
  {
   "cell_type": "code",
   "execution_count": 7,
   "metadata": {},
   "outputs": [
    {
     "data": {
      "text/plain": [
       "'c:\\\\Users\\\\tdavi\\\\Documents\\\\projects\\\\azure_ml_training'"
      ]
     },
     "execution_count": 7,
     "metadata": {},
     "output_type": "execute_result"
    }
   ],
   "source": [
    "import os\n",
    "os.getcwd()"
   ]
  }
 ],
 "metadata": {
  "kernelspec": {
   "display_name": ".venv",
   "language": "python",
   "name": "python3"
  },
  "language_info": {
   "codemirror_mode": {
    "name": "ipython",
    "version": 3
   },
   "file_extension": ".py",
   "mimetype": "text/x-python",
   "name": "python",
   "nbconvert_exporter": "python",
   "pygments_lexer": "ipython3",
   "version": "3.8.19"
  }
 },
 "nbformat": 4,
 "nbformat_minor": 2
}
