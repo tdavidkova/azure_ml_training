{
 "cells": [
  {
   "cell_type": "code",
   "execution_count": 4,
   "metadata": {},
   "outputs": [],
   "source": [
    "import pandas as pd\n",
    "\n",
    "# URL of the dataset\n",
    "url = 'https://archive.ics.uci.edu/ml/machine-learning-databases/adult/adult.data'\n",
    "\n",
    "# Import the dataset into a pandas DataFrame\n",
    "df = pd.read_csv(url, header=None)\n"
   ]
  },
  {
   "cell_type": "code",
   "execution_count": 5,
   "metadata": {},
   "outputs": [],
   "source": [
    "df.columns = [\"age\"\t,\n",
    "\"workclass\"\t,\n",
    "\"fnlwgt\"\t,\n",
    "\"education\"\t,\n",
    "\"education_num\"\t,\n",
    "\"marital_status\"\t,\n",
    "\"occupation\"\t,\n",
    "\"relationship\"\t,\n",
    "\"race\"\t,\n",
    "\"sex\"\t,\n",
    "\"capital_gain\"\t,\n",
    "\"capital_loss\"\t,\n",
    "\"hours_per_week\"\t,\n",
    "\"native_country\"\t,\n",
    "\"income\"\n",
    "]\n",
    "\n"
   ]
  },
  {
   "cell_type": "code",
   "execution_count": 6,
   "metadata": {},
   "outputs": [],
   "source": [
    "keeps = [\"age\"\t,\"workclass\"\t,\"education\"\t,\"marital_status\"\t,\"hours_per_week\",\"income\"\t]\n",
    "\n",
    "df.loc[:1000,keeps].to_csv(\"./data/adultincome.csv\", index=False)"
   ]
  }
 ],
 "metadata": {
  "kernelspec": {
   "display_name": ".venv311",
   "language": "python",
   "name": "python3"
  },
  "language_info": {
   "codemirror_mode": {
    "name": "ipython",
    "version": 3
   },
   "file_extension": ".py",
   "mimetype": "text/x-python",
   "name": "python",
   "nbconvert_exporter": "python",
   "pygments_lexer": "ipython3",
   "version": "3.11.9"
  }
 },
 "nbformat": 4,
 "nbformat_minor": 2
}
