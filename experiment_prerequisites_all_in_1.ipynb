{
 "cells": [
  {
   "cell_type": "code",
   "execution_count": 9,
   "metadata": {},
   "outputs": [],
   "source": [
    "# %%\n",
    "# -----------------------------------------------------\n",
    "# Import Workspace class \n",
    "# -----------------------------------------------------\n",
    "from azureml.core import Workspace, Datastore, Dataset\n",
    "from azure.identity import DefaultAzureCredential"
   ]
  },
  {
   "cell_type": "code",
   "execution_count": null,
   "metadata": {},
   "outputs": [],
   "source": [
    "# %%\n",
    "# -----------------------------------------------------\n",
    "#  Create the workspace\n",
    "# -----------------------------------------------------\n",
    "ws = Workspace.create(name='AzureMLWS04',\n",
    "                      subscription_id='9d1e7df0-a4cd-45d3-94d0-9c9208ce45ee',\n",
    "                      resource_group='teodora.davidkova-rg',\n",
    "                      create_resource_group=False,   # True if it does not exist\n",
    "                      location='westeurope')\n"
   ]
  },
  {
   "cell_type": "code",
   "execution_count": null,
   "metadata": {},
   "outputs": [],
   "source": [
    "print(ws.name, ws.location, ws.resource_group, ws.subscription_id)\n"
   ]
  },
  {
   "cell_type": "code",
   "execution_count": 3,
   "metadata": {},
   "outputs": [
    {
     "name": "stdout",
     "output_type": "stream",
     "text": [
      "['AzureMLWS01', 'AzureMLWS04']\n"
     ]
    }
   ],
   "source": [
    "# %%\n",
    "# -----------------------------------------------------\n",
    "# List all the workspaces within a subscription\n",
    "# -----------------------------------------------------\n",
    "\n",
    "ws_list = Workspace.list(subscription_id=\"9d1e7df0-a4cd-45d3-94d0-9c9208ce45ee\")\n",
    "ws_list = list(ws_list)\n",
    "print(ws_list)"
   ]
  },
  {
   "cell_type": "code",
   "execution_count": null,
   "metadata": {},
   "outputs": [],
   "source": []
  },
  {
   "cell_type": "code",
   "execution_count": null,
   "metadata": {},
   "outputs": [],
   "source": [
    "# %%\n",
    "import json\n",
    "# Load the configuration file\n",
    "with open('./config.json', 'r') as config_file:\n",
    "    config = json.load(config_file)\n",
    "\n",
    "print(config)\n",
    "# Extract the account key from the configuration\n",
    "storage_account_key = config.get('storage_account_key')\n",
    "ws = Workspace(subscription_id=config.get('subscription_id'),\n",
    "               workspace_name=config.get('workspace_name'),\n",
    "               resource_group=config.get('resource_group'))\n",
    "print(ws.name)\n"
   ]
  },
  {
   "cell_type": "code",
   "execution_count": 12,
   "metadata": {},
   "outputs": [],
   "source": [
    "# -----------------------------------------------------\n",
    "# Create a datastore \n",
    "# -----------------------------------------------------\n",
    "az_store = Datastore.register_azure_blob_container(\n",
    "            workspace=ws,\n",
    "            datastore_name=\"experiment_data\",\n",
    "            account_name=\"tddata01\", # storage account name\n",
    "            container_name=\"cont01\",\n",
    "            account_key=storage_account_key) #storage account key"
   ]
  },
  {
   "cell_type": "code",
   "execution_count": 5,
   "metadata": {},
   "outputs": [
    {
     "name": "stdout",
     "output_type": "stream",
     "text": [
      "['experiment_data', 'cont02', 'workspaceworkingdirectory', 'workspaceartifactstore', 'workspacefilestore', 'workspaceblobstore']\n"
     ]
    }
   ],
   "source": [
    "# %%\n",
    "# -----------------------------------------------------\n",
    "# Access datastore by its name\n",
    "# -----------------------------------------------------\n",
    "# %%\n",
    "# -----------------------------------------------------\n",
    "# List all the datastores\n",
    "# -----------------------------------------------------\n",
    "store_list = list(ws.datastores)\n",
    "print(store_list)\n",
    "\n",
    "az_store = Datastore.get(ws, \"experiment_data\")"
   ]
  },
  {
   "cell_type": "code",
   "execution_count": 18,
   "metadata": {},
   "outputs": [
    {
     "name": "stdout",
     "output_type": "stream",
     "text": [
      "Uploading an estimated of 5 files\n",
      "Uploading ./data\\defaults.csv\n",
      "Uploaded ./data\\defaults.csv, 1 files out of an estimated total of 5\n",
      "Uploading ./data\\Loan+Approval+Prediction.csv\n",
      "Uploaded ./data\\Loan+Approval+Prediction.csv, 2 files out of an estimated total of 5\n",
      "Uploading ./data\\Loan+Data.csv\n",
      "Uploaded ./data\\Loan+Data.csv, 3 files out of an estimated total of 5\n",
      "Uploading ./data\\test.csv\n",
      "Uploaded ./data\\test.csv, 4 files out of an estimated total of 5\n",
      "Uploading ./data\\test1.csv\n",
      "Uploaded ./data\\test1.csv, 5 files out of an estimated total of 5\n",
      "Uploaded 5 files\n"
     ]
    },
    {
     "data": {
      "text/plain": [
       "$AZUREML_DATAREFERENCE_a5e407a079ac412eb67e7d86afde4725"
      ]
     },
     "execution_count": 18,
     "metadata": {},
     "output_type": "execute_result"
    }
   ],
   "source": [
    "# %%\n",
    "# -----------------------------------------------------\n",
    "# Upload folder or directory to the storage account\n",
    "# -----------------------------------------------------\n",
    "az_store.upload(src_dir=\"./data\",\n",
    "                target_path=\"Loan Data/data\",\n",
    "                overwrite=True)"
   ]
  },
  {
   "cell_type": "code",
   "execution_count": 11,
   "metadata": {},
   "outputs": [],
   "source": [
    "\n",
    "# -----------------------------------------------------\n",
    "# Create and register the dataset\n",
    "# -----------------------------------------------------\n",
    "\n",
    "# Create the path of the csv file\n",
    "csv_path = [(az_store, \"Loan Data/data/defaults.csv\")]\n",
    "\n",
    "# Create the dataset\n",
    "loan_dataset = Dataset.Tabular.from_delimited_files(path=csv_path)\n",
    "\n",
    "# Register the dataset\n",
    "loan_dataset = loan_dataset.register(workspace=ws,\n",
    "                                     name=\"Defaults\",\n",
    "                                     create_new_version=True)\n"
   ]
  },
  {
   "cell_type": "code",
   "execution_count": 19,
   "metadata": {},
   "outputs": [],
   "source": [
    "\n",
    "# -----------------------------------------------------\n",
    "# Create and register the dataset\n",
    "# -----------------------------------------------------\n",
    "\n",
    "# Create the path of the csv file\n",
    "csv_path = [(az_store, \"Loan Data/data/Loan+Approval+Prediction.csv\")]\n",
    "\n",
    "# Create the dataset\n",
    "loan_dataset2 = Dataset.Tabular.from_delimited_files(path=csv_path)\n",
    "\n",
    "# Register the dataset\n",
    "loan_dataset2 = loan_dataset2.register(workspace=ws,\n",
    "                                     name=\"LoanApprovalPrediction\",\n",
    "                                     create_new_version=True)\n"
   ]
  },
  {
   "cell_type": "code",
   "execution_count": 17,
   "metadata": {},
   "outputs": [
    {
     "name": "stdout",
     "output_type": "stream",
     "text": [
      "{'infer_column_types': 'False', 'activity': 'to_pandas_dataframe'}\n",
      "{'infer_column_types': 'False', 'activity': 'to_pandas_dataframe', 'activityApp': 'TabularDataset'}\n"
     ]
    }
   ],
   "source": [
    "df = loan_dataset.to_pandas_dataframe()"
   ]
  }
 ],
 "metadata": {
  "kernelspec": {
   "display_name": "Python 3",
   "language": "python",
   "name": "python3"
  },
  "language_info": {
   "codemirror_mode": {
    "name": "ipython",
    "version": 3
   },
   "file_extension": ".py",
   "mimetype": "text/x-python",
   "name": "python",
   "nbconvert_exporter": "python",
   "pygments_lexer": "ipython3",
   "version": "3.8.19"
  }
 },
 "nbformat": 4,
 "nbformat_minor": 2
}
