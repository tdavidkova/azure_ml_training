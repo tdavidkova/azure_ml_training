{
 "cells": [
  {
   "cell_type": "code",
   "execution_count": 1,
   "metadata": {},
   "outputs": [],
   "source": [
    "# %%\n",
    "# -----------------------------------------------------\n",
    "# Import required classes from Azureml\n",
    "# -----------------------------------------------------\n",
    "from azureml.core import Workspace, Datastore, Dataset, Experiment\n"
   ]
  },
  {
   "cell_type": "code",
   "execution_count": 3,
   "metadata": {},
   "outputs": [],
   "source": [
    "# %%\n",
    "# -----------------------------------------------------\n",
    "# Access the Workspace, Datastore and Datasets\n",
    "# -----------------------------------------------------\n",
    "ws                = Workspace.from_config(\"./config\")\n",
    "az_store          = Datastore.get(ws, 'cont01')\n",
    "az_dataset        = Dataset.get_by_name(ws, 'Loan Applications Using SDK')\n",
    "az_default_store  = ws.get_default_datastore()\n"
   ]
  },
  {
   "cell_type": "code",
   "execution_count": 10,
   "metadata": {},
   "outputs": [],
   "source": [
    "# %%\n",
    "# -----------------------------------------------------\n",
    "# Create/Access an experiment object\n",
    "# -----------------------------------------------------\n",
    "experiment = Experiment(workspace=ws,\n",
    "                        name=\"Loan-SDK-Exp011\")\n"
   ]
  },
  {
   "cell_type": "code",
   "execution_count": 22,
   "metadata": {},
   "outputs": [],
   "source": [
    "# %%\n",
    "# -----------------------------------------------------\n",
    "# Run an experiment using start_logging method\n",
    "# -----------------------------------------------------\n",
    "new_run = experiment.start_logging(snapshot_directory=None)\n"
   ]
  },
  {
   "cell_type": "code",
   "execution_count": 23,
   "metadata": {},
   "outputs": [],
   "source": [
    "new_run.complete()"
   ]
  },
  {
   "cell_type": "code",
   "execution_count": 13,
   "metadata": {},
   "outputs": [
    {
     "data": {
      "text/plain": [
       "[Experiment(Name: Exp01,\n",
       " Workspace: AzureMLWS01),\n",
       " Experiment(Name: InfJob,\n",
       " Workspace: AzureMLWS01),\n",
       " Experiment(Name: InfBatch,\n",
       " Workspace: AzureMLWS01),\n",
       " Experiment(Name: InfBatch02,\n",
       " Workspace: AzureMLWS01),\n",
       " Experiment(Name: Loan-SDK-Exp01,\n",
       " Workspace: AzureMLWS01),\n",
       " Experiment(Name: Loan-SDK-Exp011,\n",
       " Workspace: AzureMLWS01)]"
      ]
     },
     "execution_count": 13,
     "metadata": {},
     "output_type": "execute_result"
    }
   ],
   "source": [
    "list_experiments = Experiment.list(ws)\n",
    "list_experiments"
   ]
  },
  {
   "cell_type": "code",
   "execution_count": 40,
   "metadata": {},
   "outputs": [],
   "source": [
    "experiment = Experiment(ws, \"Loan-SDK-Exp011\")\n"
   ]
  },
  {
   "cell_type": "code",
   "execution_count": 60,
   "metadata": {},
   "outputs": [
    {
     "data": {
      "text/plain": [
       "<generator object Run._rehydrate_runs at 0x000002504F3EE050>"
      ]
     },
     "execution_count": 60,
     "metadata": {},
     "output_type": "execute_result"
    }
   ],
   "source": [
    "runs = experiment.get_runs()\n",
    "runs"
   ]
  },
  {
   "cell_type": "code",
   "execution_count": 61,
   "metadata": {},
   "outputs": [
    {
     "name": "stdout",
     "output_type": "stream",
     "text": [
      "e555be89-c5d7-4e82-a2bd-6aa9be0496e1 Completed\n",
      "a1a1f26b-1b59-4ba8-98f1-8a500a46472d Completed\n",
      "42b66cf0-b7ed-42e7-930a-375bba7de151 Completed\n"
     ]
    }
   ],
   "source": [
    "# this command won't work if executed a second time in a row - first rerun previous cell\n",
    "for run in runs:\n",
    "    run.complete()\n",
    "    print(run.id, run.status)"
   ]
  },
  {
   "cell_type": "code",
   "execution_count": 28,
   "metadata": {},
   "outputs": [],
   "source": []
  },
  {
   "cell_type": "code",
   "execution_count": 62,
   "metadata": {},
   "outputs": [
    {
     "name": "stdout",
     "output_type": "stream",
     "text": [
      "{'infer_column_types': 'False', 'activity': 'to_pandas_dataframe'}\n",
      "{'infer_column_types': 'False', 'activity': 'to_pandas_dataframe', 'activityApp': 'TabularDataset'}\n"
     ]
    }
   ],
   "source": [
    "# %%\n",
    "# -----------------------------------------------------\n",
    "# Do your stuff here\n",
    "# -----------------------------------------------------\n",
    "df = az_dataset.to_pandas_dataframe()\n",
    "\n",
    "# Count the observations\n",
    "total_observations = len(df)\n",
    "\n",
    "# Get the null/missing values\n",
    "nulldf = df.isnull().sum()\n"
   ]
  },
  {
   "cell_type": "code",
   "execution_count": 63,
   "metadata": {},
   "outputs": [],
   "source": [
    "# %%\n",
    "# -----------------------------------------------------\n",
    "# Log metrics and Complete an experiment run\n",
    "# -----------------------------------------------------\n",
    "new_run = experiment.start_logging(snapshot_directory=None)\n",
    "# Log the metrics to the workspace\n",
    "new_run.log(\"Total Observations\", total_observations)\n",
    "\n",
    "# Log the missing data values\n",
    "for columns in df.columns:\n",
    "    new_run.log(columns, nulldf[columns])\n",
    "\n",
    "new_run.complete()\n",
    "\n",
    "\n",
    "\n",
    "\n",
    "\n",
    "\n",
    "\n",
    "\n",
    "\n",
    "\n",
    "\n",
    "\n",
    "\n",
    "\n"
   ]
  }
 ],
 "metadata": {
  "kernelspec": {
   "display_name": ".venv311",
   "language": "python",
   "name": "python3"
  },
  "language_info": {
   "codemirror_mode": {
    "name": "ipython",
    "version": 3
   },
   "file_extension": ".py",
   "mimetype": "text/x-python",
   "name": "python",
   "nbconvert_exporter": "python",
   "pygments_lexer": "ipython3",
   "version": "3.11.9"
  }
 },
 "nbformat": 4,
 "nbformat_minor": 2
}
